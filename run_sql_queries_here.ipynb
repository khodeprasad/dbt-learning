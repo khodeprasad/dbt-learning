{
 "cells": [
  {
   "cell_type": "code",
   "execution_count": null,
   "id": "e736bc2c-718f-43f0-9586-9117cdb9b4c9",
   "metadata": {},
   "outputs": [],
   "source": [
    "import duckdb\n",
    "import pandas as pd"
   ]
  },
  {
   "cell_type": "code",
   "execution_count": null,
   "id": "ba2b764d-56b6-4420-bfce-3b1fedcbbba8",
   "metadata": {},
   "outputs": [],
   "source": [
    "sql_query = '''show tables'''\n",
    "\n",
    "with duckdb.connect('data_nyc_pv/nyc_parking_violations.db') as con:\n",
    "    display(con.sql(sql_query).df())"
   ]
  },
  {
   "cell_type": "code",
   "execution_count": null,
   "id": "4ab83e1e-d256-45c0-bb4b-7460f9c98fdf",
   "metadata": {},
   "outputs": [],
   "source": [
    "sql_query_import_1 = '''\n",
    "CREATE OR REPLACE TABLE parking_violation_codes AS\n",
    "SELECT *\n",
    "FROM read_csv_auto(\n",
    "  'data_nyc_pv/dof_parking_violation_codes.csv',\n",
    "  normalize_names=True\n",
    "  )\n",
    "'''\n",
    "\n",
    "sql_query_import_2 = '''\n",
    "CREATE OR REPLACE TABLE parking_violations_2023 AS\n",
    "SELECT *\n",
    "FROM read_csv_auto(\n",
    "  'data_nyc_pv/parking_violations_issued_fiscal_year_2023_sample.csv',\n",
    "  normalize_names=True\n",
    "  )\n",
    "'''\n",
    "\n",
    "with duckdb.connect('data_nyc_pv/nyc_parking_violations.db') as con:\n",
    "  con.sql(sql_query_import_1)\n",
    "  con.sql(sql_query_import_2)"
   ]
  },
  {
   "cell_type": "code",
   "execution_count": null,
   "id": "34ce8943-f061-4482-a7f3-060450e92703",
   "metadata": {},
   "outputs": [],
   "source": [
    "sql_query = '''show tables'''\n",
    "\n",
    "with duckdb.connect('data_nyc_pv/nyc_parking_violations.db') as con:\n",
    "    display(con.sql(sql_query).df())\n",
    "\n",
    "# output\n",
    "# ┌─────────────────────────┐\n",
    "# │          name           │\n",
    "# │         varchar         │\n",
    "# ├─────────────────────────┤\n",
    "# │ parking_violation_codes │\n",
    "# │ parking_violations_2023 │\n",
    "# └─────────────────────────┘"
   ]
  },
  {
   "cell_type": "code",
   "execution_count": null,
   "id": "92463b63-e835-4bbc-834a-dc6b1fcab386",
   "metadata": {},
   "outputs": [],
   "source": [
    "sql_query = '''\n",
    "SELECT * FROM parking_violation_codes LIMIT 5\n",
    "'''\n",
    "\n",
    "with duckdb.connect('data_nyc_pv/nyc_parking_violations.db') as con:\n",
    "    display(con.sql(sql_query))\n",
    "\n",
    "# output\n",
    "# ┌───────┬────────────────────────────────┬─────────────────────────┬─────────────────┐\n",
    "# │ code  │           definition           │ manhattan_96th_st_below │ all_other_areas │\n",
    "# │ int64 │            varchar             │          int64          │      int64      │\n",
    "# ├───────┼────────────────────────────────┼─────────────────────────┼─────────────────┤\n",
    "# │     1 │ FAILURE TO DISPLAY BUS PERMIT  │                     515 │             515 │\n",
    "# │     2 │ NO OPERATOR NAM/ADD/PH DISPLAY │                     515 │             515 │\n",
    "# │     3 │ UNAUTHORIZED PASSENGER PICK-UP │                     515 │             515 │\n",
    "# │     4 │ BUS PARKING IN LOWER MANHATTAN │                     115 │             115 │\n",
    "# │     5 │ BUS LANE VIOLATION             │                     250 │             250 │\n",
    "# └───────┴────────────────────────────────┴─────────────────────────┴─────────────────┘"
   ]
  },
  {
   "cell_type": "code",
   "execution_count": null,
   "id": "8de368b0",
   "metadata": {},
   "outputs": [],
   "source": [
    "sql_query = '''\n",
    "SELECT * FROM parking_violations_2023 LIMIT 5\n",
    "'''\n",
    "\n",
    "with duckdb.connect('data_nyc_pv/nyc_parking_violations.db') as con:\n",
    "    display(con.sql(sql_query))\n",
    "\n",
    "# ┌────────────────┬────────────────────┬────────────┬───┬───────────────────┬──────────────────────┐\n",
    "# │ summons_number │ registration_state │ plate_type │ … │ hydrant_violation │ double_parking_vio…  │\n",
    "# │     int64      │      varchar       │  varchar   │   │      varchar      │       varchar        │\n",
    "# ├────────────────┼────────────────────┼────────────┼───┼───────────────────┼──────────────────────┤\n",
    "# │     9010912681 │ CA                 │ PAS        │ … │ NULL              │ NULL                 │\n",
    "# │     4858762841 │ NY                 │ PAS        │ … │ NULL              │ NULL                 │\n",
    "# │     4854645684 │ FL                 │ PAS        │ … │ NULL              │ NULL                 │\n",
    "# │     9044582707 │ NY                 │ PAS        │ … │ NULL              │ NULL                 │\n",
    "# │     9041503330 │ NY                 │ PAS        │ … │ NULL              │ NULL                 │\n",
    "# ├────────────────┴────────────────────┴────────────┴───┴───────────────────┴──────────────────────┤\n",
    "# │ 5 rows                                                                     34 columns (5 shown) │\n",
    "# └─────────────────────────────────────────────────────────────────────────────────────────────────┘"
   ]
  },
  {
   "cell_type": "code",
   "execution_count": null,
   "id": "5a2f3da5",
   "metadata": {},
   "outputs": [],
   "source": [
    "sql_query = '''\n",
    "SELECT * FROM parking_violations_2023 LIMIT 5\n",
    "'''\n",
    "\n",
    "with duckdb.connect('data_nyc_pv/nyc_parking_violations.db') as con:\n",
    "    display(con.sql(sql_query).df())"
   ]
  },
  {
   "cell_type": "code",
   "execution_count": null,
   "id": "c07b34a1-16ec-46f0-b8b5-32e8ed79ef8d",
   "metadata": {},
   "outputs": [],
   "source": [
    "sql_query_count_1 = 'SELECT count(*) FROM parking_violation_codes'\n",
    "sql_query_count_2 = 'SELECT count(*) FROM parking_violations_2023'\n",
    "\n",
    "with duckdb.connect('data_nyc_pv/nyc_parking_violations.db') as con:\n",
    "  display(con.sql(sql_query_count_1))\n",
    "  display(con.sql(sql_query_count_2))\n",
    "\n",
    "# ┌──────────────┐\n",
    "# │ count_star() │\n",
    "# │    int64     │\n",
    "# ├──────────────┤\n",
    "# │           97 │\n",
    "# └──────────────┘\n",
    "# ┌──────────────┐\n",
    "# │ count_star() │\n",
    "# │    int64     │\n",
    "# ├──────────────┤\n",
    "# │       100000 │\n",
    "# └──────────────┘"
   ]
  },
  {
   "cell_type": "code",
   "execution_count": null,
   "id": "2007597e",
   "metadata": {},
   "outputs": [],
   "source": [
    "sql_query_count_1 = 'SELECT * FROM ref_model'\n",
    "\n",
    "with duckdb.connect('data_nyc_pv/nyc_parking_violations.db') as con:\n",
    "  display(con.sql(sql_query_count_1))"
   ]
  },
  {
   "cell_type": "code",
   "execution_count": null,
   "id": "9a14d578",
   "metadata": {},
   "outputs": [],
   "source": [
    "sql_query_import_1 = '''\n",
    "CREATE OR REPLACE TABLE parking_violation_codes AS\n",
    "SELECT *\n",
    "FROM read_csv_auto(\n",
    "  'data_nyc_pv/dof_parking_violation_codes.csv',\n",
    "  normalize_names=True\n",
    "  )\n",
    "'''\n",
    "\n",
    "sql_query_import_2 = '''\n",
    "CREATE OR REPLACE TABLE parking_violations_2023 AS\n",
    "SELECT *\n",
    "FROM read_csv_auto(\n",
    "  'data_nyc_pv/parking_violations_issued_fiscal_year_2023_sample.csv',\n",
    "  normalize_names=True\n",
    "  )\n",
    "'''\n",
    "\n",
    "with duckdb.connect('data_nyc_pv/prod_nyc_parking_violations.db') as con:\n",
    "  con.sql(sql_query_import_1)\n",
    "  con.sql(sql_query_import_2)"
   ]
  },
  {
   "cell_type": "code",
   "execution_count": null,
   "id": "359e0ba6",
   "metadata": {},
   "outputs": [],
   "source": [
    "sql_query = '''\n",
    "show tables\n",
    "'''\n",
    "\n",
    "with duckdb.connect('data_nyc_pv/prod_nyc_parking_violations.db') as con:\n",
    "    display(con.sql(sql_query).df())"
   ]
  }
 ],
 "metadata": {
  "kernelspec": {
   "display_name": "Python 3 (ipykernel)",
   "language": "python",
   "name": "python3"
  },
  "language_info": {
   "codemirror_mode": {
    "name": "ipython",
    "version": 3
   },
   "file_extension": ".py",
   "mimetype": "text/x-python",
   "name": "python",
   "nbconvert_exporter": "python",
   "pygments_lexer": "ipython3",
   "version": "3.10.14"
  }
 },
 "nbformat": 4,
 "nbformat_minor": 5
}
